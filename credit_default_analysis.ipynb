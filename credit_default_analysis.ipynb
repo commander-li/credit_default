{
 "cells": [
  {
   "cell_type": "code",
   "execution_count": 25,
   "metadata": {},
   "outputs": [],
   "source": [
    "import warnings\n",
    "warnings.filterwarnings('ignore')  # 忽略掉警告信息"
   ]
  },
  {
   "cell_type": "code",
   "execution_count": 26,
   "metadata": {},
   "outputs": [
    {
     "name": "stdout",
     "output_type": "stream",
     "text": [
      "(30000, 25)\n",
      "0    23364\n",
      "1     6636\n",
      "Name: default.payment.next.month, dtype: int64\n"
     ]
    },
    {
     "data": {
      "image/png": "[encoded data removed]",
      "text/plain": [
       "<Figure size 432x432 with 1 Axes>"
      ]
     },
     "metadata": {
      "needs_background": "light"
     },
     "output_type": "display_data"
    },
    {
     "name": "stdout",
     "output_type": "stream",
     "text": [
      " 最优分数： 0.8187\n",
      " 最优参数： {'adaBoostClassifier__n_estimators': 10}\n",
      "准确率: 0.8129\n"
     ]
    }
   ],
   "source": [
    "# -*- coding: utf-8 -*-\n",
    "# 使用 AdaBoost 进行信用卡违约率分析\n",
    "# 利用 GridSearchCV 寻找最优参数, 使用 Pipeline 进行流水作业\n",
    "from sklearn.model_selection import learning_curve, train_test_split,GridSearchCV\n",
    "from sklearn.preprocessing import StandardScaler\n",
    "from sklearn.pipeline import Pipeline\n",
    "from sklearn.metrics import accuracy_score\n",
    "from sklearn.ensemble import AdaBoostClassifier\n",
    "import pandas as pd\n",
    "import seaborn as sns\n",
    "from matplotlib import pyplot as plt\n",
    "\n",
    "# 数据加载\n",
    "data = pd.read_csv('./UCI_Credit_Card.csv')\n",
    "\n",
    "# 探索数据\n",
    "print(data.shape)   # 查看数据集大小\n",
    "# print(data.describe())  # 数据集概览\n",
    "\n",
    "# 查看下一个月违约率的情况\n",
    "next_month = data['default.payment.next.month'].value_counts()\n",
    "print(next_month)\n",
    "\n",
    "df = pd.DataFrame({'default.payment.next.month' : next_month.index, 'values' : next_month.values})\n",
    "plt.rcParams['font.sans-serif'] = ['SimHei']  # 用来正常显示中文标签\n",
    "plt.figure(figsize=(6,6))\n",
    "plt.title('信用卡违约率客户\\n（违约：1，守约：0）')\n",
    "sns.set_color_codes(\"pastel\")\n",
    "sns.barplot(x = 'default.payment.next.month', y = 'values', data=df)\n",
    "locs, labels = plt.xticks()\n",
    "plt.show()\n",
    "\n",
    "# 特征选择，去掉ID字段和最后一列\n",
    "data.drop(['ID'], inplace = True, axis = 1) # ID字段没用\n",
    "target = data['default.payment.next.month'].values\n",
    "columns = data.columns.tolist()\n",
    "columns.remove('default.payment.next.month')\n",
    "features = data[columns].values\n",
    "# 30% 作为测试集，其余作为训练集\n",
    "train_x, test_x, train_y, test_y = train_test_split(features, target, test_size=0.3, stratify = target, random_state = 1)\n",
    "\n",
    "# 创建AdaBoost分类器\n",
    "Ada = AdaBoostClassifier(random_state = 1)\n",
    "# 需要调整的参数\n",
    "parameters = {'adaBoostClassifier__n_estimators': [10, 50, 100]}\n",
    "pipeline = Pipeline([\n",
    "        ('scaler', StandardScaler()),\n",
    "        ('adaBoostClassifier', Ada)\n",
    "])\n",
    "# 使用 GridSearchCV 进行参数调优\n",
    "clf = GridSearchCV(estimator=pipeline, param_grid=parameters)\n",
    "\n",
    "# 对数据集进行分类\n",
    "clf.fit(train_x, train_y)\n",
    "print(\" 最优分数： %.4lf\" %clf.best_score_)\n",
    "print(\" 最优参数：\", clf.best_params_)\n",
    "\n",
    "# 预测\n",
    "predict_y = clf.predict(test_x)\n",
    "print('准确率: %0.4lf'%accuracy_score(test_y, predict_y))"
   ]
  },
  {
   "cell_type": "code",
   "execution_count": null,
   "metadata": {},
   "outputs": [],
   "source": []
  }
 ],
 "metadata": {
  "kernelspec": {
   "display_name": "Python 3",
   "language": "python",
   "name": "python3"
  },
  "language_info": {
   "codemirror_mode": {
    "name": "ipython",
    "version": 3
   },
   "file_extension": ".py",
   "mimetype": "text/x-python",
   "name": "python",
   "nbconvert_exporter": "python",
   "pygments_lexer": "ipython3",
   "version": "3.7.1"
  }
 },
 "nbformat": 4,
 "nbformat_minor": 2
}
